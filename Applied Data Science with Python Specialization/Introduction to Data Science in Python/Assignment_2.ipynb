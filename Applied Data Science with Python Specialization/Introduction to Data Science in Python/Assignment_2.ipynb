{
  "nbformat": 4,
  "nbformat_minor": 0,
  "metadata": {
    "colab": {
      "name": "Assignment 2.ipynb",
      "provenance": []
    },
    "kernelspec": {
      "name": "python3",
      "display_name": "Python 3"
    }
  },
  "cells": [
    {
      "cell_type": "code",
      "metadata": {
        "id": "Bi1KWEfqdOjk",
        "colab_type": "code",
        "colab": {}
      },
      "source": [
        "import pandas as pd\n",
        "\n",
        "df = pd.read_csv('olympics.csv', index_col=0, skiprows=1)\n",
        "\n",
        "for col in df.columns:\n",
        "    if col[:2]=='01':\n",
        "        df.rename(columns={col:'Gold'+col[4:]}, inplace=True)\n",
        "    if col[:2]=='02':\n",
        "        df.rename(columns={col:'Silver'+col[4:]}, inplace=True)\n",
        "    if col[:2]=='03':\n",
        "        df.rename(columns={col:'Bronze'+col[4:]}, inplace=True)\n",
        "    if col[:1]=='№':\n",
        "        df.rename(columns={col:'#'+col[1:]}, inplace=True)\n",
        "\n",
        "names_ids = df.index.str.split('\\s\\(') # split the index by '('\n",
        "\n",
        "df.index = names_ids.str[0] # the [0] element is the country name (new index) \n",
        "df['ID'] = names_ids.str[1].str[:3] # the [1] element is the abbreviation or ID (take first 3 characters from that)\n",
        "\n",
        "df = df.drop('Totals')\n",
        "df.head()"
      ],
      "execution_count": 0,
      "outputs": []
    },
    {
      "cell_type": "code",
      "metadata": {
        "id": "CZ2j5ZTAPiIY",
        "colab_type": "code",
        "colab": {}
      },
      "source": [
        "def answer_zero():\n",
        "    return df.iloc[0]"
      ],
      "execution_count": 0,
      "outputs": []
    },
    {
      "cell_type": "code",
      "metadata": {
        "id": "iRtbcoZKPvmx",
        "colab_type": "code",
        "colab": {}
      },
      "source": [
        "def answer_one():\n",
        "    tmp=df.where(df['Gold']==df['Gold'].max())\n",
        "    tmp=tmp.dropna()\n",
        "    return tmp.index[0]"
      ],
      "execution_count": 0,
      "outputs": []
    },
    {
      "cell_type": "code",
      "metadata": {
        "id": "bQ1nsb-ZPzdL",
        "colab_type": "code",
        "colab": {}
      },
      "source": [
        "def answer_two():\n",
        "    tmp=df.where((df['Gold']-df['Gold.1'])==(df['Gold']-df['Gold.1']).max())\n",
        "    tmp=tmp.dropna()\n",
        "    return tmp.index[0]"
      ],
      "execution_count": 0,
      "outputs": []
    },
    {
      "cell_type": "code",
      "metadata": {
        "id": "8RPNrwYMQc5i",
        "colab_type": "code",
        "colab": {}
      },
      "source": [
        "def answer_three():\n",
        "    df0=df[(df['Gold']>0) & (df['Gold.1']>0)]\n",
        "    df0=df0.dropna()\n",
        "    tmp0=(df0['Gold']-df0['Gold.1'])/df0['Gold.2']\n",
        "    tmp1=df0.where(tmp0==tmp0.max())\n",
        "    tmp1=tmp1.dropna()\n",
        "    return tmp1.index[0]"
      ],
      "execution_count": 0,
      "outputs": []
    },
    {
      "cell_type": "code",
      "metadata": {
        "id": "hCWcRpOmQirs",
        "colab_type": "code",
        "colab": {}
      },
      "source": [
        "def answer_four():\n",
        "    tmp=df['Gold.2']*3+df['Silver.2']*2+df['Bronze.2']*1\n",
        "    tmp.rename('Points')\n",
        "    return tmp"
      ],
      "execution_count": 0,
      "outputs": []
    },
    {
      "cell_type": "code",
      "metadata": {
        "id": "6AZ7C8EbysgK",
        "colab_type": "code",
        "colab": {}
      },
      "source": [
        "census_df = pd.read_csv('census.csv')\n",
        "census_df.head()"
      ],
      "execution_count": 0,
      "outputs": []
    },
    {
      "cell_type": "code",
      "metadata": {
        "id": "O0lieqHFyyqB",
        "colab_type": "code",
        "colab": {}
      },
      "source": [
        "def answer_five():\n",
        "    tmp1=census_df[census_df['SUMLEV']==50].groupby('STNAME')['COUNTY'].count()\n",
        "    for i in range(len(tmp1)):\n",
        "        if(tmp1.iloc[i]==tmp1.max()):\n",
        "            a=tmp1.index[i]\n",
        "            return a"
      ],
      "execution_count": 0,
      "outputs": []
    },
    {
      "cell_type": "code",
      "metadata": {
        "id": "u4L9x94dy2_m",
        "colab_type": "code",
        "colab": {}
      },
      "source": [
        "def answer_six():\n",
        "    tmp0=census_df[census_df['SUMLEV']==50].groupby('STNAME').apply(lambda tmp:tmp.nlargest(3,'CENSUS2010POP'))\n",
        "    tmp1=tmp0.groupby('STNAME')['CENSUS2010POP'].sum()\n",
        "    tmp2=tmp1.sort_values(ascending=False)\n",
        "    lst=[]\n",
        "    lst.append(tmp2.index[0])\n",
        "    lst.append(tmp2.index[1])\n",
        "    lst.append(tmp2.index[2])\n",
        "    return lst"
      ],
      "execution_count": 0,
      "outputs": []
    },
    {
      "cell_type": "code",
      "metadata": {
        "id": "H6jL0iLHy4cm",
        "colab_type": "code",
        "colab": {}
      },
      "source": [
        "def answer_seven():\n",
        "    tmp=census_df[census_df['SUMLEV']==50].loc[:,['POPESTIMATE2010','POPESTIMATE2011','POPESTIMATE2012','POPESTIMATE2013','POPESTIMATE2014','POPESTIMATE2015']]\n",
        "    tmp2=tmp.T\n",
        "    tmp2.loc['maximum']=tmp2.loc[:].max()\n",
        "    tmp2.loc['minimum']=tmp2.loc[:].min()\n",
        "    tmp=tmp2.T\n",
        "    tmp0=census_df[census_df['SUMLEV']==50]\n",
        "    tmp0['DIF']=tmp['maximum']-tmp['minimum']\n",
        "    tmp1=tmp0.where(tmp0['DIF']==tmp0['DIF'].max())\n",
        "    tmp1=tmp1.dropna()\n",
        "    tmp3=tmp1['CTYNAME'].tolist()\n",
        "    return tmp3[0]"
      ],
      "execution_count": 0,
      "outputs": []
    },
    {
      "cell_type": "code",
      "metadata": {
        "id": "7T1KX25My52R",
        "colab_type": "code",
        "colab": {}
      },
      "source": [
        "def answer_eight():\n",
        "    tmp0=census_df[census_df['SUMLEV']==50]\n",
        "    tmp1=tmp0.where(tmp0[(tmp0['REGION']==1) | (tmp0['REGION']==2)])\n",
        "    tmp1=tmp1.dropna()\n",
        "    tmp2=tmp1.where(tmp1['POPESTIMATE2015']>tmp1['POPESTIMATE2014'])\n",
        "    tmp2=tmp2.dropna()\n",
        "    tmp3=tmp2.where(tmp2['CTYNAME']=='Washington County')\n",
        "    tmp3=tmp3.dropna()\n",
        "    tmp4=tmp3[['STNAME','CTYNAME']]\n",
        "    return tmp4"
      ],
      "execution_count": 0,
      "outputs": []
    }
  ]
}