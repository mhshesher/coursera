{
  "nbformat": 4,
  "nbformat_minor": 0,
  "metadata": {
    "colab": {
      "name": "Logistic Regression with a Neural Network mindset.ipynb",
      "provenance": [],
      "collapsed_sections": []
    },
    "kernelspec": {
      "name": "python3",
      "display_name": "Python 3"
    }
  },
  "cells": [
    {
      "cell_type": "code",
      "metadata": {
        "id": "mxBNzG3j6mGB"
      },
      "source": [
        "import pandas as pd\n",
        "import numpy as np\n",
        "from sklearn.model_selection import train_test_split\n",
        "import numpy as np\n",
        "import h5py"
      ],
      "execution_count": 1,
      "outputs": []
    },
    {
      "cell_type": "code",
      "metadata": {
        "id": "uvNI7cyScdWx"
      },
      "source": [
        "# dataset can be found on 'Week 2/Datasets' directory\n",
        "def load_dataset():\n",
        "    train_dataset = h5py.File('train_catvnoncat.h5', \"r\")\n",
        "    train_set_x_orig = np.array(train_dataset[\"train_set_x\"][:]) # your train set features\n",
        "    train_set_y_orig = np.array(train_dataset[\"train_set_y\"][:]) # your train set labels\n",
        "\n",
        "    test_dataset = h5py.File('test_catvnoncat.h5', \"r\")\n",
        "    test_set_x_orig = np.array(test_dataset[\"test_set_x\"][:]) # your test set features\n",
        "    test_set_y_orig = np.array(test_dataset[\"test_set_y\"][:]) # your test set labels\n",
        "\n",
        "    classes = np.array(test_dataset[\"list_classes\"][:]) # the list of classes\n",
        "    \n",
        "    train_set_y_orig = train_set_y_orig.reshape((1, train_set_y_orig.shape[0]))\n",
        "    test_set_y_orig = test_set_y_orig.reshape((1, test_set_y_orig.shape[0]))\n",
        "    \n",
        "    return train_set_x_orig, train_set_y_orig, test_set_x_orig, test_set_y_orig, classes"
      ],
      "execution_count": 2,
      "outputs": []
    },
    {
      "cell_type": "code",
      "metadata": {
        "id": "QnzGVaE5b42T"
      },
      "source": [
        "train_set_x_orig, train_set_y, test_set_x_orig, test_set_y, classes = load_dataset()"
      ],
      "execution_count": 3,
      "outputs": []
    },
    {
      "cell_type": "code",
      "metadata": {
        "id": "BveexytRxUp6"
      },
      "source": [
        "m_train = train_set_x_orig.shape[0]\n",
        "m_test = test_set_x_orig.shape[0]\n",
        "num_px = train_set_x_orig.shape[1]"
      ],
      "execution_count": 4,
      "outputs": []
    },
    {
      "cell_type": "code",
      "metadata": {
        "id": "ZMW5OdOwxXgq"
      },
      "source": [
        "train_set_x_flatten = train_set_x_orig.reshape(train_set_x_orig.shape[0],-1).T\n",
        "test_set_x_flatten = test_set_x_orig.reshape(test_set_x_orig.shape[0],-1).T"
      ],
      "execution_count": 5,
      "outputs": []
    },
    {
      "cell_type": "code",
      "metadata": {
        "id": "M3__Jr7PxZMR"
      },
      "source": [
        "train_set_x = train_set_x_flatten/255.\n",
        "test_set_x = test_set_x_flatten/255."
      ],
      "execution_count": 6,
      "outputs": []
    },
    {
      "cell_type": "code",
      "metadata": {
        "colab": {
          "base_uri": "https://localhost:8080/"
        },
        "id": "T7dedSh4dDIo",
        "outputId": "04395ab0-f042-4338-b8b0-b351af68bf8d"
      },
      "source": [
        "print('train_set_x shape:',train_set_x_flatten.shape)\n",
        "print('train_set_y shape:',train_set_y.shape)\n",
        "print('test_set_x shape:',test_set_x_flatten.shape)\n",
        "print('test_set_y shape:',test_set_y.shape)\n",
        "print('classes:',end=' ')\n",
        "for i in classes:\n",
        "    print(i,end=', ')"
      ],
      "execution_count": 7,
      "outputs": [
        {
          "output_type": "stream",
          "text": [
            "train_set_x shape: (12288, 209)\n",
            "train_set_y shape: (1, 209)\n",
            "test_set_x shape: (12288, 50)\n",
            "test_set_y shape: (1, 50)\n",
            "classes: b'non-cat', b'cat', "
          ],
          "name": "stdout"
        }
      ]
    },
    {
      "cell_type": "code",
      "metadata": {
        "id": "ADJvEEYdOsg6"
      },
      "source": [
        "def sigmoid(z):\n",
        "\n",
        "    return 1/(1+np.exp(z*(-1)))"
      ],
      "execution_count": 8,
      "outputs": []
    },
    {
      "cell_type": "code",
      "metadata": {
        "id": "mzlOAkh0PqtU"
      },
      "source": [
        "def propagate(w,b,X,y):\n",
        "\n",
        "    m=X.shape[1]\n",
        "\n",
        "    # forward propagate\n",
        "    z=np.dot(w.T,X)+b\n",
        "    y_cap=sigmoid(z)\n",
        "\n",
        "    # backward propagate\n",
        "    dz=y_cap-y\n",
        "    dw=(np.dot(X,dz.T))/m\n",
        "    db=np.sum(dz)/m\n",
        "\n",
        "    return dw,db"
      ],
      "execution_count": 9,
      "outputs": []
    },
    {
      "cell_type": "code",
      "metadata": {
        "id": "0EuniJOrTSMi"
      },
      "source": [
        "def optimize(w,b,X,y,num_iteration,alpha):\n",
        "\n",
        "    for i in range(num_iteration):\n",
        "        dw,db=propagate(w,b,X,y)\n",
        "\n",
        "        w-=alpha*dw\n",
        "        b-=alpha*db\n",
        "\n",
        "    return w,b"
      ],
      "execution_count": 10,
      "outputs": []
    },
    {
      "cell_type": "code",
      "metadata": {
        "id": "Mt9Ymq6vUkBo"
      },
      "source": [
        "def predict(w,b,X):\n",
        "\n",
        "    m=X.shape[1]\n",
        "    y_predicted=sigmoid(np.dot(w.T,X)+b)\n",
        "\n",
        "    for i in range(y_predicted.shape[1]):\n",
        "        if y_predicted[0][i]<=0.5:\n",
        "            y_predicted[0][i]=0\n",
        "        else:\n",
        "            y_predicted[0][i]=1\n",
        "\n",
        "    return y_predicted"
      ],
      "execution_count": 11,
      "outputs": []
    },
    {
      "cell_type": "code",
      "metadata": {
        "id": "8pAa6k4wWb_h"
      },
      "source": [
        "def model(X_train,y_train,X_test,num_iteration=2000,alpha=0.5):\n",
        "\n",
        "    n=X_train.shape[0]\n",
        "    w=np.zeros((n,1))\n",
        "    b=0\n",
        "    \n",
        "    w_final,b_final=optimize(w,b,X_train,y_train,num_iteration,alpha)\n",
        "    y_prediction=predict(w_final,b_final,X_test)\n",
        "\n",
        "    return y_prediction"
      ],
      "execution_count": 12,
      "outputs": []
    },
    {
      "cell_type": "code",
      "metadata": {
        "id": "fOgSYqKFtG-V"
      },
      "source": [
        "def checkAccuracy(y_cap,y):\n",
        "\n",
        "    score=np.mean(np.abs(y_cap-y))\n",
        "    accuracy=(1-score)*100\n",
        "    \n",
        "    return accuracy"
      ],
      "execution_count": 13,
      "outputs": []
    },
    {
      "cell_type": "code",
      "metadata": {
        "colab": {
          "base_uri": "https://localhost:8080/"
        },
        "id": "1k22KKnHbU85",
        "outputId": "5d668a9a-bd07-4487-9fba-33e97a448b01"
      },
      "source": [
        "y_predicted=model(train_set_x,train_set_y,train_set_x,2000,0.005)\n",
        "accuracy=checkAccuracy(y_predicted,train_set_y)\n",
        "print('Train accuracy:',(int(accuracy*100))/100.0,'%')"
      ],
      "execution_count": 14,
      "outputs": [
        {
          "output_type": "stream",
          "text": [
            "Train accuracy: 99.04 %\n"
          ],
          "name": "stdout"
        }
      ]
    },
    {
      "cell_type": "code",
      "metadata": {
        "colab": {
          "base_uri": "https://localhost:8080/"
        },
        "id": "DW_PvGRTwqWt",
        "outputId": "fbc051b5-621f-466c-d733-2f7c855de29b"
      },
      "source": [
        "y_predicted=model(train_set_x,train_set_y,test_set_x,2000,0.005)\n",
        "accuracy=checkAccuracy(y_predicted,test_set_y)\n",
        "print('Test accuracy:',(int(accuracy*100))/100.0,'%')"
      ],
      "execution_count": 15,
      "outputs": [
        {
          "output_type": "stream",
          "text": [
            "Test accuracy: 70.0 %\n"
          ],
          "name": "stdout"
        }
      ]
    }
  ]
}