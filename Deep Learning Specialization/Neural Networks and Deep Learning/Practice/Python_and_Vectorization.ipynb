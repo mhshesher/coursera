{
  "nbformat": 4,
  "nbformat_minor": 0,
  "metadata": {
    "colab": {
      "name": "Week 2_Python and Vectorization.ipynb",
      "provenance": [],
      "collapsed_sections": []
    },
    "kernelspec": {
      "name": "python3",
      "display_name": "Python 3"
    }
  },
  "cells": [
    {
      "cell_type": "code",
      "metadata": {
        "id": "nZoxYTB83b80"
      },
      "source": [
        "import numpy as np\n",
        "import time\n",
        "import math"
      ],
      "execution_count": null,
      "outputs": []
    },
    {
      "cell_type": "markdown",
      "metadata": {
        "id": "FNl9ct045U-g"
      },
      "source": [
        "##Vectorization\n",
        "\n",
        "Here I checked the time efficiency of vectorized implementation by comparing the calculation of matrix multiplication using loop and numpy.dot() function."
      ]
    },
    {
      "cell_type": "code",
      "metadata": {
        "colab": {
          "base_uri": "https://localhost:8080/"
        },
        "id": "M_SIvUwf3jAD",
        "outputId": "6f815f6b-0fc6-499d-8cc8-7fef5c47aa38"
      },
      "source": [
        "a=np.array([1,2,3,4])\n",
        "print(a)"
      ],
      "execution_count": null,
      "outputs": [
        {
          "output_type": "stream",
          "text": [
            "[1 2 3 4]\n"
          ],
          "name": "stdout"
        }
      ]
    },
    {
      "cell_type": "code",
      "metadata": {
        "colab": {
          "base_uri": "https://localhost:8080/"
        },
        "id": "rU_Qrbit31Vu",
        "outputId": "6ceb4c34-0814-4f6d-c598-90defaa17949"
      },
      "source": [
        "a=np.random.rand(100000)\n",
        "b=np.random.rand(100000)\n",
        "\n",
        "tic=time.time()\n",
        "c=np.dot(a,b)\n",
        "toc=time.time()\n",
        "\n",
        "print(c)\n",
        "print('time needed for vectiorized multiplication:',1000*(toc-tic),'ms')"
      ],
      "execution_count": null,
      "outputs": [
        {
          "output_type": "stream",
          "text": [
            "24920.66876971851\n",
            "time needed for vectiorized multiplication: 0.919342041015625 ms\n"
          ],
          "name": "stdout"
        }
      ]
    },
    {
      "cell_type": "code",
      "metadata": {
        "colab": {
          "base_uri": "https://localhost:8080/"
        },
        "id": "AgVUlCMw4az6",
        "outputId": "6ef18790-d9c5-407a-8620-1b1aeb38b66f"
      },
      "source": [
        "c=0\n",
        "tic=time.time()\n",
        "for i in range(len(a)):\n",
        "    c+=a[i]*b[i]\n",
        "toc=time.time()\n",
        "\n",
        "print(c)\n",
        "print('time needed for non-vectorized multiplication:',1000*(toc-tic),'ms')"
      ],
      "execution_count": null,
      "outputs": [
        {
          "output_type": "stream",
          "text": [
            "24920.668769718417\n",
            "time needed for non-vectorized multiplication: 66.93220138549805 ms\n"
          ],
          "name": "stdout"
        }
      ]
    },
    {
      "cell_type": "markdown",
      "metadata": {
        "id": "3A9WGWnY98o4"
      },
      "source": [
        "##Vectorizing Logistic Regression\n",
        "\n",
        "Here I implemented the hypothesis\n",
        "```\n",
        "z = (w.T * X) + b\n",
        "```\n",
        "Later implemented the sigmoid function\n",
        "```\n",
        "g = 1 / 1 + (e^-z)\n",
        "```\n",
        "And calculated\n",
        "```\n",
        "a = g(z)\n",
        "```\n",
        "\n",
        "\n"
      ]
    },
    {
      "cell_type": "code",
      "metadata": {
        "id": "kSxVkPyx-AAt"
      },
      "source": [
        "m=100\n",
        "n=10\n",
        "w=np.random.randn(n,1)\n",
        "x=np.random.randn(n,m)\n",
        "b=np.random.randn(1,m)\n",
        "y=[i%2 for i in range(100)]\n",
        "np.random.shuffle(y)\n",
        "alpha=0.01"
      ],
      "execution_count": null,
      "outputs": []
    },
    {
      "cell_type": "code",
      "metadata": {
        "colab": {
          "base_uri": "https://localhost:8080/"
        },
        "id": "-oYSRR-CFGba",
        "outputId": "f63adaeb-07d4-4b2f-c0d9-1c554021d338"
      },
      "source": [
        "# non-vectorized approach\n",
        "z=np.zeros(m)\n",
        "\n",
        "tic=time.time()\n",
        "for i in range(m):\n",
        "    for j in range(n):\n",
        "        # print(x[j][i],end=' ')\n",
        "        z[i]+=x[j][i]*w[j]\n",
        "    z[i]+=b[0][i]\n",
        "toc=time.time()\n",
        "\n",
        "print('time needed for non-vectorized multiplication:',1000*(toc-tic),'ms')"
      ],
      "execution_count": null,
      "outputs": [
        {
          "output_type": "stream",
          "text": [
            "time needed for non-vectorized multiplication: 7.224559783935547 ms\n"
          ],
          "name": "stdout"
        }
      ]
    },
    {
      "cell_type": "code",
      "metadata": {
        "colab": {
          "base_uri": "https://localhost:8080/"
        },
        "id": "u4tFVYatGudO",
        "outputId": "488f05d8-0378-4644-81e2-794a0af9b5a6"
      },
      "source": [
        "# vectorized approach\n",
        "\n",
        "tic=time.time()\n",
        "z=np.dot(w.T,x)+b\n",
        "toc=time.time()\n",
        "\n",
        "print('time needed for vectiorized multiplication:',1000*(toc-tic),'ms')"
      ],
      "execution_count": null,
      "outputs": [
        {
          "output_type": "stream",
          "text": [
            "time needed for vectiorized multiplication: 0.9863376617431641 ms\n"
          ],
          "name": "stdout"
        }
      ]
    },
    {
      "cell_type": "code",
      "metadata": {
        "colab": {
          "base_uri": "https://localhost:8080/"
        },
        "id": "oA8YAu8e9e-6",
        "outputId": "fefffd28-c8aa-41ba-a8bc-a4cae9519c86"
      },
      "source": [
        "z.shape"
      ],
      "execution_count": null,
      "outputs": [
        {
          "output_type": "execute_result",
          "data": {
            "text/plain": [
              "(1, 100)"
            ]
          },
          "metadata": {
            "tags": []
          },
          "execution_count": 181
        }
      ]
    },
    {
      "cell_type": "code",
      "metadata": {
        "id": "OyAVeVrMpgPw"
      },
      "source": [
        "# sigmoid function\n",
        "def sigmoid(x):\n",
        "    tmp=1/(1+(math.exp(x*(-1))))\n",
        "    return tmp\n",
        "    # if tmp>=0.5: return 1\n",
        "    # else: return 0"
      ],
      "execution_count": null,
      "outputs": []
    },
    {
      "cell_type": "code",
      "metadata": {
        "id": "JzY2smdNq189"
      },
      "source": [
        "a=np.array(list(map(sigmoid,z[0])))"
      ],
      "execution_count": null,
      "outputs": []
    },
    {
      "cell_type": "markdown",
      "metadata": {
        "id": "3TKrbq-Rng_G"
      },
      "source": [
        "##Vectorizing Logistic Regression's Gradient Output\n",
        "Here I implemented the derivates\n",
        "```\n",
        "dz = a - y\n",
        "db = 1/m Σ[1,m] dzi\n",
        "dw = 1/m (x * dz.T)\n",
        "```\n",
        "needed for backpropagation"
      ]
    },
    {
      "cell_type": "code",
      "metadata": {
        "id": "dCUtN5JmngIb"
      },
      "source": [
        "dz = a-y"
      ],
      "execution_count": null,
      "outputs": []
    },
    {
      "cell_type": "code",
      "metadata": {
        "id": "478kIMZH0kol"
      },
      "source": [
        "db = (np.sum(dz))/m"
      ],
      "execution_count": null,
      "outputs": []
    },
    {
      "cell_type": "code",
      "metadata": {
        "id": "WNysPapm0urp"
      },
      "source": [
        "dw = (np.dot(x,dz.T))/m"
      ],
      "execution_count": null,
      "outputs": []
    },
    {
      "cell_type": "code",
      "metadata": {
        "id": "Vr9B9V221rWE"
      },
      "source": [
        "w-=(alpha*dw)"
      ],
      "execution_count": null,
      "outputs": []
    },
    {
      "cell_type": "code",
      "metadata": {
        "id": "mYk6Hpvl1vkz"
      },
      "source": [
        "b-=(alpha*db)"
      ],
      "execution_count": null,
      "outputs": []
    },
    {
      "cell_type": "markdown",
      "metadata": {
        "id": "ut76P9Ik3YP3"
      },
      "source": [
        "##Broadcasting in Python\n",
        "\n",
        "Python broadcasting says that if you have a (m,n) matrix, you can add, subtract, multiply or divide (1,n) or (m,1) matrix with it. In that case (1,n) matrix will make copies of rows to form (m,n) matrix and (m,1) matrix will make copies of column to form (m,n) matrix and they will do elementwise operation."
      ]
    },
    {
      "cell_type": "code",
      "metadata": {
        "id": "Ktx6dYUq3b4L"
      },
      "source": [
        "a = np.array([[56.0,0.0,4.4,68.0],\n",
        "             [1.2,104.0,52.0,8.0],\n",
        "             [1.8,135.0,99.0,0.9]])"
      ],
      "execution_count": null,
      "outputs": []
    },
    {
      "cell_type": "code",
      "metadata": {
        "id": "T5EG3kCt3vXc"
      },
      "source": [
        "cal=np.sum(a,axis=0)"
      ],
      "execution_count": null,
      "outputs": []
    },
    {
      "cell_type": "code",
      "metadata": {
        "id": "0CjJl_Xh33BA"
      },
      "source": [
        "percentage= a/cal * 100"
      ],
      "execution_count": null,
      "outputs": []
    },
    {
      "cell_type": "code",
      "metadata": {
        "colab": {
          "base_uri": "https://localhost:8080/",
          "height": 203
        },
        "id": "LCIi0Oqy5NBf",
        "outputId": "6e38305d-b896-405f-8c61-a5193d99f9c1"
      },
      "source": [
        "a=np.array([[1,2,3],[4,5,6],[7,8,9]])\n",
        "b=np.array([[1,2],[3,4]])\n",
        "\n",
        "a+b"
      ],
      "execution_count": null,
      "outputs": [
        {
          "output_type": "error",
          "ename": "ValueError",
          "evalue": "ignored",
          "traceback": [
            "\u001b[0;31m---------------------------------------------------------------------------\u001b[0m",
            "\u001b[0;31mValueError\u001b[0m                                Traceback (most recent call last)",
            "\u001b[0;32m<ipython-input-136-14c1b15ed735>\u001b[0m in \u001b[0;36m<module>\u001b[0;34m()\u001b[0m\n\u001b[1;32m      2\u001b[0m \u001b[0mb\u001b[0m\u001b[0;34m=\u001b[0m\u001b[0mnp\u001b[0m\u001b[0;34m.\u001b[0m\u001b[0marray\u001b[0m\u001b[0;34m(\u001b[0m\u001b[0;34m[\u001b[0m\u001b[0;34m[\u001b[0m\u001b[0;36m1\u001b[0m\u001b[0;34m,\u001b[0m\u001b[0;36m2\u001b[0m\u001b[0;34m]\u001b[0m\u001b[0;34m,\u001b[0m\u001b[0;34m[\u001b[0m\u001b[0;36m3\u001b[0m\u001b[0;34m,\u001b[0m\u001b[0;36m4\u001b[0m\u001b[0;34m]\u001b[0m\u001b[0;34m]\u001b[0m\u001b[0;34m)\u001b[0m\u001b[0;34m\u001b[0m\u001b[0;34m\u001b[0m\u001b[0m\n\u001b[1;32m      3\u001b[0m \u001b[0;34m\u001b[0m\u001b[0m\n\u001b[0;32m----> 4\u001b[0;31m \u001b[0ma\u001b[0m\u001b[0;34m+\u001b[0m\u001b[0mb\u001b[0m\u001b[0;34m\u001b[0m\u001b[0;34m\u001b[0m\u001b[0m\n\u001b[0m",
            "\u001b[0;31mValueError\u001b[0m: operands could not be broadcast together with shapes (3,3) (2,2) "
          ]
        }
      ]
    },
    {
      "cell_type": "code",
      "metadata": {
        "colab": {
          "base_uri": "https://localhost:8080/"
        },
        "id": "LUR6Ggkj6nmJ",
        "outputId": "ce61f27e-0fba-42de-e503-10ffd89a6d09"
      },
      "source": [
        "a=np.array([1,2,3,4])\n",
        "b=np.array([[1],[2],[3]])\n",
        "\n",
        "a+b"
      ],
      "execution_count": null,
      "outputs": [
        {
          "output_type": "execute_result",
          "data": {
            "text/plain": [
              "array([[2, 3, 4, 5],\n",
              "       [3, 4, 5, 6],\n",
              "       [4, 5, 6, 7]])"
            ]
          },
          "metadata": {
            "tags": []
          },
          "execution_count": 141
        }
      ]
    }
  ]
}