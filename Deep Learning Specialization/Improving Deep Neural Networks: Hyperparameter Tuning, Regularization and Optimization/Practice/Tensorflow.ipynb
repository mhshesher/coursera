{
  "nbformat": 4,
  "nbformat_minor": 0,
  "metadata": {
    "colab": {
      "name": "Tensorflow.ipynb",
      "provenance": []
    },
    "kernelspec": {
      "name": "python3",
      "display_name": "Python 3"
    },
    "language_info": {
      "name": "python"
    }
  },
  "cells": [
    {
      "cell_type": "code",
      "metadata": {
        "id": "cZvofmqPANdM"
      },
      "source": [
        "import numpy as np\n",
        "import tensorflow as tf"
      ],
      "execution_count": null,
      "outputs": []
    },
    {
      "cell_type": "markdown",
      "metadata": {
        "id": "WSCdMn5AEwqp"
      },
      "source": [
        "Simpler Cost Function"
      ]
    },
    {
      "cell_type": "code",
      "metadata": {
        "colab": {
          "base_uri": "https://localhost:8080/"
        },
        "id": "6DVc9IqRAmgH",
        "outputId": "c9b9fea7-03c0-4b43-dfdc-b9354eef0446"
      },
      "source": [
        "w = tf.Variable(0, dtype=tf.float32)                                       # setting weights\n",
        "\n",
        "optimizer = tf.keras.optimizers.Adam(0.1)                                  # setting optimizer\n",
        "\n",
        "def train_step():\n",
        "    with tf.GradientTape() as tape:                                        # using tape, we allow tensorflow to take care of backprop. it records the order of the sequences to calculations needed to calculate the cost function. using gradienttape, we can reverse it to get the calculations of backprop.\n",
        "        cost = w**2+10*w+25                                                # setting cost function\n",
        "    trainable_variables = [w]\n",
        "    grads=tape.gradient(cost, trainable_variables)                         # getting gradients\n",
        "    optimizer.apply_gradients(zip(grads, trainable_variables))\n",
        "\n",
        "print(w)"
      ],
      "execution_count": null,
      "outputs": [
        {
          "output_type": "stream",
          "name": "stdout",
          "text": [
            "<tf.Variable 'Variable:0' shape=() dtype=float32, numpy=0.0>\n"
          ]
        }
      ]
    },
    {
      "cell_type": "code",
      "metadata": {
        "colab": {
          "base_uri": "https://localhost:8080/"
        },
        "id": "OBRKa4sgCq7Y",
        "outputId": "13418ab5-b29e-4e29-9647-3465c30dc3b0"
      },
      "source": [
        "train_step()\n",
        "print(w)"
      ],
      "execution_count": null,
      "outputs": [
        {
          "output_type": "stream",
          "name": "stdout",
          "text": [
            "<tf.Variable 'Variable:0' shape=() dtype=float32, numpy=-0.09999997>\n"
          ]
        }
      ]
    },
    {
      "cell_type": "code",
      "metadata": {
        "colab": {
          "base_uri": "https://localhost:8080/"
        },
        "id": "bdD_ySnFDTVu",
        "outputId": "35a9ff3e-3d7e-4f1e-e589-3ff26af5acfd"
      },
      "source": [
        "for i in range(1000):\n",
        "    train_step()\n",
        "print(w)"
      ],
      "execution_count": null,
      "outputs": [
        {
          "output_type": "stream",
          "name": "stdout",
          "text": [
            "<tf.Variable 'Variable:0' shape=() dtype=float32, numpy=-5.000001>\n"
          ]
        }
      ]
    },
    {
      "cell_type": "code",
      "metadata": {
        "colab": {
          "base_uri": "https://localhost:8080/"
        },
        "id": "J_w1yCp5Dc0h",
        "outputId": "5185bbc6-94e2-4ab6-c22b-d9a9a4687e98"
      },
      "source": [
        "for i in range(1000):\n",
        "    train_step()\n",
        "print(w)"
      ],
      "execution_count": null,
      "outputs": [
        {
          "output_type": "stream",
          "name": "stdout",
          "text": [
            "<tf.Variable 'Variable:0' shape=() dtype=float32, numpy=-5.0000005>\n"
          ]
        }
      ]
    },
    {
      "cell_type": "markdown",
      "metadata": {
        "id": "bcGIGlqQE09f"
      },
      "source": [
        "Complex Cost Function"
      ]
    },
    {
      "cell_type": "code",
      "metadata": {
        "colab": {
          "base_uri": "https://localhost:8080/"
        },
        "id": "9cqzaj65DgO1",
        "outputId": "0bacfd90-323c-4907-f6b6-c78e853c9db2"
      },
      "source": [
        "w = tf.Variable(0, dtype=tf.float32)\n",
        "x = np.array([1.0, -10.0, 25.0], dtype=np.float32)\n",
        "optimizer = tf.keras.optimizers.Adam(0.1)\n",
        "\n",
        "def training(x, w, optimizer):\n",
        "    def cost_func():\n",
        "        return x[0]*w**2+x[1]*w+x[2]\n",
        "    \n",
        "    for i in range(1000):\n",
        "        optimizer.minimize(cost_func,[w])\n",
        "    \n",
        "    return w\n",
        "\n",
        "w = training(x,w,optimizer)\n",
        "print(w)"
      ],
      "execution_count": null,
      "outputs": [
        {
          "output_type": "stream",
          "name": "stdout",
          "text": [
            "<tf.Variable 'Variable:0' shape=() dtype=float32, numpy=5.000001>\n"
          ]
        }
      ]
    },
    {
      "cell_type": "code",
      "metadata": {
        "id": "w4fB_6KwGTvN"
      },
      "source": [
        ""
      ],
      "execution_count": null,
      "outputs": []
    }
  ]
}